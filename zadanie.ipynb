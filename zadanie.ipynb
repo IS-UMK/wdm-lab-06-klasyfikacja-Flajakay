{
 "cells": [
  {
   "cell_type": "markdown",
   "metadata": {
    "slideshow": {
     "slide_type": "slide"
    }
   },
   "source": [
    "## Zadanie\n",
    "\n",
    "Dla danych `pima_diabetes.csv` zbuduj jak najlepszy model klasyfikacji, który wykrywa początek cukrzycy u pacjentów. W tym celu wykorzystaj 2 metody: SVM z radialną funkcją bazową oraz inny (dowolny) klasyfikator poznany na zajęciach (drzewo decyzyjne, kNN, regresja logistyczna). Dla każdej wybranej metody klasyfikacji spróbuj dobrać parametry klasyfikatora w taki sposób aby uzyskać jak najlepszą generalizację (tj. poprawność na zbiorze testowym).  \n"
   ]
  },
  {
   "cell_type": "markdown",
   "metadata": {
    "slideshow": {
     "slide_type": "slide"
    }
   },
   "source": [
    "### Dane: Pima indian diabetes\n",
    "\n",
    "Zbiór danych znajduje się w katalogu [dane/pima_diabetes.csv](dane/pima_diabetes.csv).\n",
    "\n",
    "Plik zawiera pomiary 600 pacjentów (kobiety w wieku powyżej 21 lat pochodzące z grupy indian Pima) zapisanych w formacie CSV. Wartości oddzielone przecinkiem, nazwy zmiennych zą zawarte w pierwszej linii pliku. \n",
    "\n",
    "Informacje o zmiennych: \n",
    "1. `Pregnancies` - liczba ciąży \n",
    "2. `Glucose` - stężenie glukozy w osoczu\n",
    "3. `BloodPressure` - rozkurczowe ciśnienie krwi (mm Hg) \n",
    "4. `SkinThickness` - grubość fałdu skórnego w tricepsie (mm) \n",
    "5. `Insulin` - insulina w surowicy (mu U/ml) \n",
    "6. `BMI` - wskaźnik masy ciała \n",
    "7. `DiabetesPedigreeFunction` - ocenia prawdopodobieństwo cukrzycy na podstawie wywiadu rodzinnego \n",
    "8. `Age`: wiek (lata) \n",
    "9. `Outcome `: klasa (0 lub 1)\n"
   ]
  },
  {
   "cell_type": "markdown",
   "metadata": {
    "slideshow": {
     "slide_type": "slide"
    }
   },
   "source": [
    "1. Zaimportuj zbiór danych i podziel go na część treningową i testową.  \n",
    "Jeżeli uznasz to za stosowane, to możesz przetransformować dane treningowe w dowolny sposób w celu uzyskania wyższej poprawności klasyfikacji, np.: standaryzacja, normalizacja, usunięcie wartości odstających, usunięcie nieistotnych zmiennych, usunięcie wartości brakujących, itp. "
   ]
  },
  {
   "cell_type": "code",
   "execution_count": 1,
   "metadata": {},
   "outputs": [],
   "source": [
    "import pandas as pd\n",
    "import numpy as np\n",
    "from sklearn.model_selection import train_test_split\n",
    "from sklearn.preprocessing import StandardScaler\n",
    "from sklearn.impute import SimpleImputer\n",
    "\n",
    "\n",
    "df = pd.read_csv('dane/pima_diabetes.csv')\n",
    "\n",
    "X = df.drop('Outcome', axis=1)\n",
    "y = df['Outcome']\n",
    "\n",
    "X_train, X_test, y_train, y_test = train_test_split(X, y, test_size=0.2, random_state=42)\n",
    "\n",
    "zero_cols = ['Glucose', 'BloodPressure', 'SkinThickness', 'Insulin', 'BMI']\n",
    "X_train[zero_cols] = X_train[zero_cols].replace(0, np.nan)\n",
    "X_test[zero_cols] = X_test[zero_cols].replace(0, np.nan)\n",
    "\n",
    "imputer = SimpleImputer(strategy='median')\n",
    "X_train_imputed = pd.DataFrame(imputer.fit_transform(X_train), columns=X_train.columns)\n",
    "X_test_imputed = pd.DataFrame(imputer.transform(X_test), columns=X_test.columns)\n",
    "\n",
    "scaler = StandardScaler()\n",
    "X_train_scaled = scaler.fit_transform(X_train_imputed)\n",
    "X_test_scaled = scaler.transform(X_test_imputed)\n"
   ]
  },
  {
   "cell_type": "markdown",
   "metadata": {
    "slideshow": {
     "slide_type": "slide"
    }
   },
   "source": [
    "2. Zbuduj model klasyfikacji o jak najlepszym poziomie poprawności rozpoznawania wczesnej cukrzycy, czyli model predykcji zmiennej `Outcome`, która przyjmuje wartości 0 lub 1.   \n",
    "Wykorzystaj 2 metody klasyfikacji:\n",
    "   * SVM z radialną funkcją bazową `rbf`. Dobierz najlepszą wartość parametru regularyzacji `C` oraz najlepszą wartość parametru `gamma`, który odpowiada za szerokość użytej funkcji radialnej (wielkość odchylenia funkcji Gaussa).\n",
    "   * inna (dowolna) metoda z zajęć: drzewo decyzyjne, kNN lub regresja logistyczna.\n",
    "\n",
    "Wyraźnie zaznacz (np. w komentarzu), który z uzyskanych modeli klasyfikacji (rodzaj metody i konfiguracja parametrów) uznajesz za najlepszy dla tych danych."
   ]
  },
  {
   "cell_type": "code",
   "execution_count": 2,
   "metadata": {},
   "outputs": [
    {
     "name": "stdout",
     "output_type": "stream",
     "text": [
      "SVM najlepsze parametry: {'C': 100, 'gamma': 0.01}\n",
      "SVM dokładność: 0.7583\n"
     ]
    }
   ],
   "source": [
    "# Metoda 1\n",
    "from sklearn.model_selection import GridSearchCV\n",
    "from sklearn.metrics import accuracy_score\n",
    "from sklearn.svm import SVC\n",
    "\n",
    "svm_params = {\n",
    "    'C': [0.1, 1, 10, 100],\n",
    "    'gamma': [0.001, 0.01, 0.1, 1, 'scale', 'auto']\n",
    "}\n",
    "\n",
    "svm_grid = GridSearchCV(SVC(kernel='rbf', random_state=42), svm_params, cv=5, scoring='accuracy')\n",
    "svm_grid.fit(X_train_scaled, y_train)\n",
    "\n",
    "# Best SVM model\n",
    "best_svm = svm_grid.best_estimator_\n",
    "svm_pred = best_svm.predict(X_test_scaled)\n",
    "svm_accuracy = accuracy_score(y_test, svm_pred)\n",
    "\n",
    "print(f\"SVM najlepsze parametry: {svm_grid.best_params_}\")\n",
    "print(f\"SVM dokładność: {svm_accuracy:.4f}\")"
   ]
  },
  {
   "cell_type": "code",
   "execution_count": 3,
   "metadata": {},
   "outputs": [
    {
     "name": "stdout",
     "output_type": "stream",
     "text": [
      "Regresja logistyczna dokładność: 0.7583\n"
     ]
    }
   ],
   "source": [
    "# Metoda 2\n",
    "\n",
    "from sklearn.linear_model import LogisticRegression\n",
    "\n",
    "log_reg = LogisticRegression(random_state=42, max_iter=1000)\n",
    "log_reg.fit(X_train_scaled, y_train)\n",
    "log_reg_pred = log_reg.predict(X_test_scaled)\n",
    "log_reg_accuracy = accuracy_score(y_test, log_reg_pred)\n",
    "\n",
    "print(f\"Regresja logistyczna dokładność: {log_reg_accuracy:.4f}\")"
   ]
  },
  {
   "cell_type": "code",
   "execution_count": 4,
   "metadata": {},
   "outputs": [
    {
     "name": "stdout",
     "output_type": "stream",
     "text": [
      "Drzewo decyzyjne najlepsze parametry: {'max_depth': 5, 'min_samples_leaf': 1, 'min_samples_split': 10}\n",
      "Drzewo decyzyjne dokładność: 0.7417\n"
     ]
    }
   ],
   "source": [
    "from sklearn.tree import DecisionTreeClassifier\n",
    "\n",
    "# Metoda 3\n",
    "\n",
    "tree_params = {\n",
    "    'max_depth': [3, 5, 7, 10],\n",
    "    'min_samples_split': [2, 5, 10],\n",
    "    'min_samples_leaf': [1, 2, 4]\n",
    "}\n",
    "\n",
    "tree_grid = GridSearchCV(DecisionTreeClassifier(random_state=42), tree_params, cv=5, scoring='accuracy')\n",
    "tree_grid.fit(X_train_scaled, y_train)\n",
    "\n",
    "best_tree = tree_grid.best_estimator_\n",
    "tree_pred = best_tree.predict(X_test_scaled)\n",
    "tree_accuracy = accuracy_score(y_test, tree_pred)\n",
    "\n",
    "print(f\"Drzewo decyzyjne najlepsze parametry: {tree_grid.best_params_}\")\n",
    "print(f\"Drzewo decyzyjne dokładność: {tree_accuracy:.4f}\")"
   ]
  },
  {
   "cell_type": "code",
   "execution_count": 5,
   "metadata": {},
   "outputs": [
    {
     "name": "stdout",
     "output_type": "stream",
     "text": [
      "kNN najlepsze parametry: {'n_neighbors': 15}\n",
      "kNN dokładność: 0.7667\n"
     ]
    }
   ],
   "source": [
    "from sklearn.neighbors import KNeighborsClassifier\n",
    "\n",
    "# Metoda 4\n",
    "\n",
    "knn_params = {\n",
    "    'n_neighbors': [3, 5, 7, 9, 11, 15, 21]\n",
    "}\n",
    "\n",
    "knn_grid = GridSearchCV(KNeighborsClassifier(), knn_params, cv=5, scoring='accuracy')\n",
    "knn_grid.fit(X_train_scaled, y_train)\n",
    "\n",
    "best_knn = knn_grid.best_estimator_\n",
    "knn_pred = best_knn.predict(X_test_scaled)\n",
    "knn_accuracy = accuracy_score(y_test, knn_pred)\n",
    "\n",
    "print(f\"kNN najlepsze parametry: {knn_grid.best_params_}\")\n",
    "print(f\"kNN dokładność: {knn_accuracy:.4f}\")"
   ]
  },
  {
   "cell_type": "code",
   "execution_count": 6,
   "metadata": {},
   "outputs": [
    {
     "name": "stdout",
     "output_type": "stream",
     "text": [
      "NAJLEPSZY MODEL: kNN z parametrami: n_neighbors=15\n",
      "Dokładność: 0.7667\n"
     ]
    }
   ],
   "source": [
    "# WYBÓR NAJLEPSZEGO MODELU\n",
    "accuracies = {\n",
    "    'SVM': (svm_accuracy, f\"C={svm_grid.best_params_['C']}, gamma={svm_grid.best_params_['gamma']}\"),\n",
    "    'Drzewo decyzyjne': (tree_accuracy, f\"max_depth={tree_grid.best_params_['max_depth']}, min_samples_split={tree_grid.best_params_['min_samples_split']}, min_samples_leaf={tree_grid.best_params_['min_samples_leaf']}\"),\n",
    "    'kNN': (knn_accuracy, f\"n_neighbors={knn_grid.best_params_['n_neighbors']}\")\n",
    "}\n",
    "\n",
    "best_model_name = max(accuracies, key=lambda x: accuracies[x][0])\n",
    "best_accuracy, best_params = accuracies[best_model_name]\n",
    "\n",
    "print(f\"NAJLEPSZY MODEL: {best_model_name} z parametrami: {best_params}\")\n",
    "print(f\"Dokładność: {best_accuracy:.4f}\")"
   ]
  }
 ],
 "metadata": {
  "celltoolbar": "Slideshow",
  "kernelspec": {
   "display_name": "Python 3",
   "language": "python",
   "name": "python3"
  },
  "language_info": {
   "codemirror_mode": {
    "name": "ipython",
    "version": 3
   },
   "file_extension": ".py",
   "mimetype": "text/x-python",
   "name": "python",
   "nbconvert_exporter": "python",
   "pygments_lexer": "ipython3",
   "version": "3.12.4"
  },
  "toc": {
   "base_numbering": 1,
   "nav_menu": {},
   "number_sections": true,
   "sideBar": true,
   "skip_h1_title": false,
   "title_cell": "Table of Contents",
   "title_sidebar": "Contents",
   "toc_cell": true,
   "toc_position": {
    "height": "calc(100% - 180px)",
    "left": "10px",
    "top": "150px",
    "width": "384px"
   },
   "toc_section_display": true,
   "toc_window_display": false
  },
  "varInspector": {
   "cols": {
    "lenName": 16,
    "lenType": 16,
    "lenVar": 40
   },
   "kernels_config": {
    "python": {
     "delete_cmd_postfix": "",
     "delete_cmd_prefix": "del ",
     "library": "var_list.py",
     "varRefreshCmd": "print(var_dic_list())"
    },
    "r": {
     "delete_cmd_postfix": ") ",
     "delete_cmd_prefix": "rm(",
     "library": "var_list.r",
     "varRefreshCmd": "cat(var_dic_list()) "
    }
   },
   "types_to_exclude": [
    "module",
    "function",
    "builtin_function_or_method",
    "instance",
    "_Feature"
   ],
   "window_display": false
  }
 },
 "nbformat": 4,
 "nbformat_minor": 4
}
